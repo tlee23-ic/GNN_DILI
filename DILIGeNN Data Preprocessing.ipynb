{
 "cells": [
  {
   "cell_type": "code",
   "execution_count": 1,
   "id": "277fb97e-a5a9-4a5d-b26f-146babde0d46",
   "metadata": {},
   "outputs": [],
   "source": [
    "import os\n",
    "import pickle\n",
    "import numpy as np\n",
    "import pandas as pd\n",
    "import seaborn as sns\n",
    "import matplotlib.pyplot as plt\n",
    "from tqdm import tqdm\n",
    "tqdm.pandas()\n",
    "\n",
    "from rdkit import RDLogger\n",
    "from rdkit import Chem\n",
    "from rdkit.Chem import AllChem, Draw, rdMolTransforms\n",
    "from rdkit.Chem.MolStandardize import rdMolStandardize\n",
    "from rdkit.Chem.Draw import IPythonConsole\n",
    "IPythonConsole.drawOptions.addAtomIndices = True\n",
    "IPythonConsole.molSize = 300,300\n",
    "\n",
    "from sklearn.metrics import roc_auc_score, f1_score, accuracy_score, confusion_matrix, matthews_corrcoef\n",
    "import networkx as nx\n",
    "\n",
    "import torch\n",
    "import torch.nn.functional as F\n",
    "import torch_geometric\n",
    "from torch_geometric.nn import SAGEConv, GCNConv, GATConv, GINConv\n",
    "from torch_geometric.utils import train_test_split_edges\n",
    "from torch_geometric.data import Data, Dataset, InMemoryDataset\n",
    "from torch_geometric.loader import DataLoader\n",
    "\n",
    "from torch_geometric.datasets import MoleculeNet, TUDataset\n",
    "from torch_geometric.utils import to_networkx\n",
    "\n",
    "from captum.attr import IntegratedGradients"
   ]
  },
  {
   "cell_type": "code",
   "execution_count": 2,
   "id": "7dd5c108-0905-471f-94e2-295e5ae8312e",
   "metadata": {},
   "outputs": [],
   "source": [
    "def standardise_mol(mol):\n",
    "    # Removing Hs, disconnect metal atoms, normalise the molecule, reionise the molecule\n",
    "    clean_mol = rdMolStandardize.Cleanup(mol)\n",
    "    # If more than one fragments, select parent (bigger) molecule\n",
    "    parent_clean_mol = rdMolStandardize.FragmentParent(clean_mol)\n",
    "    # Neutralise molecule\n",
    "    uncharger = rdMolStandardize.Uncharger()\n",
    "    uncharged_parent_clean_mol = uncharger.uncharge(parent_clean_mol)\n",
    "    # Enumerate tautomers\n",
    "    te = rdMolStandardize.TautomerEnumerator()\n",
    "    taut_uncharged_parent_clean_mol = te.Canonicalize(uncharged_parent_clean_mol)\n",
    "    return taut_uncharged_parent_clean_mol\n",
    "\n",
    "def standardise_smiles(smiles):\n",
    "    try:\n",
    "        mol = Chem.MolFromSmiles(smiles)\n",
    "        if mol is None:\n",
    "            return None\n",
    "        std_mol = standardise_mol(mol)\n",
    "        if std_mol is None:\n",
    "            return None\n",
    "        else:\n",
    "            return Chem.MolToSmiles(std_mol)\n",
    "    except Exception as e:\n",
    "        return None\n",
    "\n",
    "def select_and_standardise(df, smiles_col='smiles', error_msg_col='error_msg', std_smiles_col='standardised_smiles', \n",
    "                           common_elements={1, 6, 7, 8, 9, 15, 16, 17, 35, 53}):\n",
    "    error_msgs = []\n",
    "    standardised_smiles = []\n",
    "\n",
    "    for smiles in tqdm(df[smiles_col], desc=\"Processing molecules\"):\n",
    "        try:\n",
    "            mol = Chem.MolFromSmiles(smiles)\n",
    "            if mol is None:\n",
    "                error_msgs.append(\"Invalid SMILES\")\n",
    "                standardised_smiles.append(None)\n",
    "                continue\n",
    "            invalid_element_found = False\n",
    "            for atom in mol.GetAtoms():\n",
    "                if atom.GetAtomicNum() not in common_elements:\n",
    "                    error_msgs.append(f\"Contains uncommon element: {atom.GetAtomicNum()}\")\n",
    "                    invalid_element_found = True\n",
    "                    standardised_smiles.append(None)\n",
    "                    break\n",
    "            if not invalid_element_found:\n",
    "                error_msgs.append('Success')\n",
    "                std_smiles = standardise_smiles(smiles)\n",
    "                standardised_smiles.append(std_smiles)\n",
    "        except Exception as e:\n",
    "            error_msgs.append(str(e))\n",
    "            standardised_smiles.append(None)\n",
    "    \n",
    "    df[error_msg_col] = error_msgs\n",
    "    df[std_smiles_col] = standardised_smiles\n",
    "    return df"
   ]
  },
  {
   "cell_type": "code",
   "execution_count": 3,
   "id": "bb3348b4-cbaa-44a9-b1e2-bf34cfd9eea4",
   "metadata": {},
   "outputs": [],
   "source": [
    "def graph_to_mol(data):\n",
    "    mol = Chem.RWMol()\n",
    "    node_features = data.x\n",
    "    edge_indices = data.edge_index.t().numpy()\n",
    "    edge_attrs = data.edge_attr.numpy()\n",
    "    \n",
    "    atom_indices = []\n",
    "    for node_feat in node_features:\n",
    "        atomic_num = int(node_feat[0].item())\n",
    "        atom = Chem.Atom(atomic_num)\n",
    "        idx = mol.AddAtom(atom)\n",
    "        atom_indices.append(idx)\n",
    "    \n",
    "    for i, (start, end) in enumerate(edge_indices):\n",
    "        if start < end:  #To avoid adding duplicate bonds\n",
    "            bond_type = Chem.BondType.SINGLE\n",
    "            if edge_attrs[i][0] == 1:\n",
    "                bond_type = Chem.BondType.SINGLE\n",
    "            elif edge_attrs[i][0] == 2:\n",
    "                bond_type = Chem.BondType.DOUBLE\n",
    "            elif edge_attrs[i][0] == 3:\n",
    "                bond_type = Chem.BondType.TRIPLE\n",
    "            elif edge_attrs[i][0] == 1.5:\n",
    "                bond_type = Chem.BondType.AROMATIC\n",
    "                \n",
    "            try:\n",
    "                mol.AddBond(int(start), int(end), bond_type)\n",
    "            except Exception as e:\n",
    "                print(f\"Error adding bond between atoms {start} and {end}: {e}\")\n",
    "\n",
    "    mol = mol.GetMol()\n",
    "    return mol\n",
    "    \n",
    "def pytorch_to_df(dataset):\n",
    "    smiles_list, label_list = [], []\n",
    "    for molecule in dataset:\n",
    "        smiles_list.append(molecule['smiles'])\n",
    "        label_list.append(molecule['y'].item())\n",
    "    df = pd.DataFrame({'smiles': smiles_list, 'label': label_list})\n",
    "    return df\n",
    "\n",
    "\n",
    "def get_dataset_info(dataset):\n",
    "    return {\n",
    "        'num_graphs': len(dataset),\n",
    "        'label_shape': dataset.data.y.shape,\n",
    "        'num_unique_labels': len(np.unique(dataset.data.y.tolist())),\n",
    "        'num_node_features': dataset.num_node_features,\n",
    "        'num_edge_features': dataset.num_edge_features if hasattr(dataset.data, 'edge_attr') else 0\n",
    "    }"
   ]
  },
  {
   "cell_type": "code",
   "execution_count": 4,
   "id": "b6453dd4-db90-4631-8da5-2783c1cfe209",
   "metadata": {},
   "outputs": [],
   "source": [
    "## Customised preprocessing (Mols-To-Graph function)\n",
    "\n",
    "class Graph_basic(InMemoryDataset):\n",
    "    def __init__(self, dataframe, root, smiles_col='smiles', label_col='label', test=False, transform=None, pre_transform=None):\n",
    "        self.test = test\n",
    "        self.dataframe = dataframe\n",
    "        self.smiles_col = smiles_col\n",
    "        self.label_col = label_col\n",
    "        self._data = None\n",
    "        self.error_indices = []\n",
    "        super(Graph_basic, self).__init__(root, transform, pre_transform)\n",
    "        \n",
    "    @property\n",
    "    def raw_file_names(self):\n",
    "        return 'dataframe'\n",
    "\n",
    "    @property\n",
    "    def processed_file_names(self):\n",
    "        return ['data_test.pt' if self.test else 'data.pt']\n",
    "\n",
    "    def download(self):\n",
    "        pass\n",
    "\n",
    "    def process(self):\n",
    "        data_list = []\n",
    "        for index, mol in tqdm(self.dataframe.iterrows(), total=self.dataframe.shape[0]):\n",
    "            try:\n",
    "                mol_obj = Chem.MolFromSmiles(mol[self.smiles_col])\n",
    "                node_feats = self._get_node_features(mol_obj)\n",
    "                edge_feats = self._get_edge_features(mol_obj)\n",
    "                edge_index = self._get_adjacency_info(mol_obj)\n",
    "                label = self._get_labels(mol[self.label_col])\n",
    "\n",
    "                data = Data(x=node_feats, \n",
    "                            edge_index=edge_index,\n",
    "                            edge_attr=edge_feats,\n",
    "                            y=label,\n",
    "                            smiles=mol[self.smiles_col])\n",
    "                data_list.append(data)\n",
    "            except Exception as e:\n",
    "                print(f\"Error processing molecule at index {index}: {e}\")\n",
    "                self.error_indices.append(index)\n",
    "\n",
    "        if self.test:\n",
    "            torch.save(data_list, os.path.join(self.processed_dir, 'data_test.pt'))\n",
    "        else:\n",
    "            torch.save(data_list, os.path.join(self.processed_dir, 'data.pt'))\n",
    "\n",
    "    def _get_node_features(self, mol):\n",
    "        \"\"\" \n",
    "        Return a matrix / 2D array of the shape [Number of Nodes, Node Feature size]\n",
    "        with atomic number as the only node feature.\n",
    "        \"\"\"\n",
    "        all_node_feats = []\n",
    "\n",
    "        for atom in mol.GetAtoms():\n",
    "            node_feats = []    \n",
    "            node_feats.append(atom.GetAtomicNum())\n",
    "            all_node_feats.append(node_feats)\n",
    "\n",
    "        all_node_feats = np.asarray(all_node_feats)\n",
    "        return torch.tensor(all_node_feats, dtype=torch.float)\n",
    "\n",
    "    def _get_edge_features(self, mol):\n",
    "        \"\"\" \n",
    "        Return a matrix / 2D array of the shape [Number of edges, Edge Feature size]\n",
    "        with bond type as the only edge feature.\n",
    "        \"\"\"\n",
    "        all_edge_feats = []\n",
    "        \n",
    "        for bond in mol.GetBonds():\n",
    "            edge_feats = []\n",
    "            edge_feats.append(bond.GetBondTypeAsDouble())\n",
    "            all_edge_feats += [edge_feats, edge_feats]\n",
    "\n",
    "        all_edge_feats = np.asarray(all_edge_feats)\n",
    "        return torch.tensor(all_edge_feats, dtype=torch.float)\n",
    "\n",
    "    def _get_adjacency_info(self, mol):\n",
    "        edge_indices = []\n",
    "        for bond in mol.GetBonds():\n",
    "            i = bond.GetBeginAtomIdx()\n",
    "            j = bond.GetEndAtomIdx()\n",
    "            edge_indices += [[i, j], [j, i]]\n",
    "\n",
    "        edge_indices = torch.tensor(edge_indices)\n",
    "        edge_indices = edge_indices.t().to(torch.long).view(2, -1)\n",
    "        return edge_indices\n",
    "\n",
    "    def _get_labels(self, label):\n",
    "        label = np.asarray([[label]])\n",
    "        return torch.tensor(label, dtype=torch.int64)\n",
    "\n",
    "    def len(self):\n",
    "        return self.dataframe.shape[0]\n",
    "\n",
    "    def get(self, idx):\n",
    "        if self._data is None:\n",
    "            if self.test:\n",
    "                self._data = torch.load(os.path.join(self.processed_dir, 'data_test.pt'))\n",
    "            else:\n",
    "                self._data = torch.load(os.path.join(self.processed_dir, 'data.pt'))\n",
    "        return self._data[idx]\n",
    "\n",
    "## Customised preprocessing (Mols-To-Graph function)\n",
    "\n",
    "class Graph_custom(InMemoryDataset):\n",
    "    def __init__(self, dataframe, root, smiles_col='smiles', label_col='label', test=False, transform=None, pre_transform=None):  # modified\n",
    "        self.test = test\n",
    "        self.dataframe = dataframe\n",
    "        self.smiles_col = smiles_col\n",
    "        self.label_col = label_col\n",
    "        self._data = None\n",
    "        self.error_indices = []  # bad indices: To keep track of error indices\n",
    "        super(Graph_custom, self).__init__(root, transform, pre_transform)\n",
    "        \n",
    "    @property\n",
    "    def raw_file_names(self):\n",
    "        \"\"\"\n",
    "        (The download func. is not implemented here)  \n",
    "        \"\"\"\n",
    "        return 'dataframe'\n",
    "\n",
    "    @property\n",
    "    def processed_file_names(self):\n",
    "        \"\"\" If these files are found in raw_dir, processing is skipped\"\"\"\n",
    "        return ['data_test.pt' if self.test else 'data.pt']\n",
    "\n",
    "    def download(self):\n",
    "        pass\n",
    "\n",
    "    def process(self):\n",
    "        data_list = []\n",
    "        for index, mol in tqdm(self.dataframe.iterrows(), total=self.dataframe.shape[0]):\n",
    "            try:\n",
    "                mol_obj = Chem.MolFromSmiles(mol[self.smiles_col])\n",
    "                mol_obj = Chem.AddHs(mol_obj)\n",
    "                AllChem.EmbedMolecule(mol_obj, randomSeed=42, \n",
    "                                      useRandomCoords = True, maxAttempts = 5000 # Use this when Bad Conformer ID error\n",
    "                                     )\n",
    "                AllChem.MMFFOptimizeMolecule(mol_obj)\n",
    "                mol_obj = Chem.RemoveHs(mol_obj)\n",
    "                AllChem.ComputeGasteigerCharges(mol_obj)\n",
    "                \n",
    "                ################################################################\n",
    "                node_feats = self._get_node_features(mol_obj)\n",
    "                edge_feats = self._get_edge_features(mol_obj)\n",
    "                edge_index = self._get_adjacency_info(mol_obj)\n",
    "                label = self._get_labels(mol[self.label_col])\n",
    "\n",
    "                data = Data(x=node_feats, \n",
    "                            edge_index=edge_index,\n",
    "                            edge_attr=edge_feats,\n",
    "                            y=label,\n",
    "                            smiles=mol[self.smiles_col]\n",
    "                            ) \n",
    "                data_list.append(data)\n",
    "            except Exception as e:\n",
    "                print(f\"Error processing molecule at index {index}: {e}\")\n",
    "                self.error_indices.append(index)  # bad_indices: Track the index of the molecule that caused an error\n",
    "\n",
    "        if self.test:\n",
    "            torch.save(data_list, os.path.join(self.processed_dir, 'data_test.pt'))\n",
    "        else:\n",
    "            torch.save(data_list, os.path.join(self.processed_dir, 'data.pt'))\n",
    "\n",
    "    def _get_node_features(self, mol):\n",
    "        \"\"\" \n",
    "        This will return a matrix / 2d array of the shape\n",
    "        [Number of Nodes, Node Feature size]\n",
    "        \"\"\"\n",
    "        all_node_feats = []\n",
    "\n",
    "        for atom in mol.GetAtoms():\n",
    "            node_feats = []\n",
    "            # Feature 1: Atomic number        \n",
    "            node_feats.append(atom.GetAtomicNum())\n",
    "            # Feature 2: Atom degree -> Number of directly-bonded neighbours\n",
    "            node_feats.append(atom.GetDegree())\n",
    "            # Feature 3: Formal charge -> charge of the atom\n",
    "            node_feats.append(atom.GetFormalCharge())\n",
    "            # Feature 4: Hybridization -> hybridization state i.e. sp3\n",
    "            node_feats.append(atom.GetHybridization())\n",
    "            # Feature 5: Aromaticity\n",
    "            node_feats.append(atom.GetIsAromatic())\n",
    "            # Feature 6: Total Num Hs\n",
    "            node_feats.append(atom.GetTotalNumHs())\n",
    "            # Feature 7: Radical Electrons\n",
    "            node_feats.append(atom.GetNumRadicalElectrons())\n",
    "            # Feature 8: In Ring\n",
    "            node_feats.append(atom.IsInRing())\n",
    "            # Feature 9: Chirality\n",
    "            node_feats.append(atom.GetChiralTag())\n",
    "\n",
    "            # Feature 10: Gasteiger Charges\n",
    "            node_feats.append(atom.GetDoubleProp(\"_GasteigerCharge\"))\n",
    "            # Feature 11: Total Valence\n",
    "            node_feats.append(atom.GetTotalValence())\n",
    "            # Feature 12: Explicit Valence\n",
    "            node_feats.append(atom.GetExplicitValence())\n",
    "\n",
    "            # Append node features to matrix\n",
    "            all_node_feats.append(node_feats)\n",
    "\n",
    "        all_node_feats = np.asarray(all_node_feats)\n",
    "        return torch.tensor(all_node_feats, dtype=torch.float)\n",
    "\n",
    "    def _get_edge_features(self, mol):\n",
    "        \"\"\" \n",
    "        This will return a matrix / 2d array of the shape\n",
    "        [Number of edges, Edge Feature size]\n",
    "        \"\"\"\n",
    "        conf = mol.GetConformer() # will be used to calculate bond length, force field optimised conformer\n",
    "        all_edge_feats = []\n",
    "        \n",
    "        for bond in mol.GetBonds():\n",
    "            edge_feats = []\n",
    "            # Feature 1: Bond type (as double)\n",
    "            edge_feats.append(bond.GetBondTypeAsDouble())\n",
    "            # Feature 2: Bond length\n",
    "            edge_feats.append(np.round(rdMolTransforms.GetBondLength(conf, bond.GetBeginAtomIdx(), bond.GetEndAtomIdx()),3))\n",
    "            # Feature 3: Rings\n",
    "            edge_feats.append(bond.IsInRing())\n",
    "            # Append node features to matrix (twice, per direction)\n",
    "            all_edge_feats += [edge_feats, edge_feats]\n",
    "\n",
    "        all_edge_feats = np.asarray(all_edge_feats)\n",
    "        return torch.tensor(all_edge_feats, dtype=torch.float)\n",
    "\n",
    "    def _get_adjacency_info(self, mol):\n",
    "        edge_indices = []\n",
    "        for bond in mol.GetBonds():\n",
    "            i = bond.GetBeginAtomIdx()\n",
    "            j = bond.GetEndAtomIdx()\n",
    "            edge_indices += [[i, j], [j, i]]\n",
    "\n",
    "        edge_indices = torch.tensor(edge_indices)\n",
    "        edge_indices = edge_indices.t().to(torch.long).view(2, -1)\n",
    "        return edge_indices\n",
    "\n",
    "    def _get_labels(self, label):\n",
    "        label = np.asarray([[label]])\n",
    "        return torch.tensor(label, dtype=torch.int64)\n",
    "\n",
    "    def len(self):\n",
    "        return self.dataframe.shape[0]\n",
    "\n",
    "    def get(self, idx):\n",
    "        if self._data is None: \n",
    "            if self.test:\n",
    "                self._data = torch.load(os.path.join(self.processed_dir, 'data_test.pt'))\n",
    "            else:\n",
    "                self._data = torch.load(os.path.join(self.processed_dir, 'data.pt'))\n",
    "        return self._data[idx]"
   ]
  },
  {
   "cell_type": "markdown",
   "id": "5c775657-63ab-4563-b716-a0be9a380b59",
   "metadata": {},
   "source": [
    "#### Original code: Clintox_FDA, BBBP, BACE"
   ]
  },
  {
   "cell_type": "code",
   "execution_count": 6,
   "id": "21726cce-3649-415a-8fdd-7ee6b6cfce53",
   "metadata": {},
   "outputs": [],
   "source": [
    "# Pytorch benchmark datasets\n",
    "hiv_dataset = MoleculeNet(root = 'TorchDataset/', name = 'HIV')\n",
    "clintox_dataset = MoleculeNet(root = 'TorchDataset/', name = 'ClinTox')\n",
    "bbbp_dataset = MoleculeNet(root = 'TorchDataset/', name = 'BBBP')\n",
    "bace_dataset = MoleculeNet(root = 'TorchDataset/', name = 'BACE')\n",
    "tu_dataset = TUDataset(root = 'TorchDataset/', name = 'MUTAG')\n",
    "esol_dataset = MoleculeNet(root = 'TorchDataset/', name = 'ESOL')"
   ]
  },
  {
   "cell_type": "code",
   "execution_count": 15,
   "id": "3cf2d47c-0b17-4490-b7ae-820980bf2ccd",
   "metadata": {},
   "outputs": [
    {
     "name": "stderr",
     "output_type": "stream",
     "text": [
      "/Users/ty/miniforge3/lib/python3.10/site-packages/torch_geometric/data/in_memory_dataset.py:300: UserWarning: It is not recommended to directly access the internal storage format `data` of an 'InMemoryDataset'. The data of the dataset is already cached, so any modifications to `data` will not be reflected when accessing its elements. Clearing the cache now by removing all elements in `dataset._data_list`. If you are absolutely certain what you are doing, access the internal storage via `InMemoryDataset._data` instead to suppress this warning. Alternatively, you can access stacked individual attributes of every graph via `dataset.{attr_name}`.\n",
      "  warnings.warn(msg)\n"
     ]
    },
    {
     "data": {
      "text/html": [
       "<div>\n",
       "<style scoped>\n",
       "    .dataframe tbody tr th:only-of-type {\n",
       "        vertical-align: middle;\n",
       "    }\n",
       "\n",
       "    .dataframe tbody tr th {\n",
       "        vertical-align: top;\n",
       "    }\n",
       "\n",
       "    .dataframe thead th {\n",
       "        text-align: right;\n",
       "    }\n",
       "</style>\n",
       "<table border=\"1\" class=\"dataframe\">\n",
       "  <thead>\n",
       "    <tr style=\"text-align: right;\">\n",
       "      <th></th>\n",
       "      <th>num_graphs</th>\n",
       "      <th>label_shape</th>\n",
       "      <th>num_unique_labels</th>\n",
       "      <th>num_node_features</th>\n",
       "      <th>num_edge_features</th>\n",
       "    </tr>\n",
       "  </thead>\n",
       "  <tbody>\n",
       "    <tr>\n",
       "      <th>HIV</th>\n",
       "      <td>41127</td>\n",
       "      <td>(41127, 1)</td>\n",
       "      <td>2</td>\n",
       "      <td>9</td>\n",
       "      <td>3</td>\n",
       "    </tr>\n",
       "    <tr>\n",
       "      <th>ClinTox</th>\n",
       "      <td>1484</td>\n",
       "      <td>(1484, 2)</td>\n",
       "      <td>2</td>\n",
       "      <td>9</td>\n",
       "      <td>3</td>\n",
       "    </tr>\n",
       "    <tr>\n",
       "      <th>MUTAG</th>\n",
       "      <td>188</td>\n",
       "      <td>(188,)</td>\n",
       "      <td>2</td>\n",
       "      <td>7</td>\n",
       "      <td>4</td>\n",
       "    </tr>\n",
       "    <tr>\n",
       "      <th>ESOL</th>\n",
       "      <td>1128</td>\n",
       "      <td>(1128, 1)</td>\n",
       "      <td>734</td>\n",
       "      <td>9</td>\n",
       "      <td>3</td>\n",
       "    </tr>\n",
       "    <tr>\n",
       "      <th>BBBP</th>\n",
       "      <td>2050</td>\n",
       "      <td>(2050, 1)</td>\n",
       "      <td>2</td>\n",
       "      <td>9</td>\n",
       "      <td>3</td>\n",
       "    </tr>\n",
       "    <tr>\n",
       "      <th>BACE</th>\n",
       "      <td>1513</td>\n",
       "      <td>(1513, 1)</td>\n",
       "      <td>2</td>\n",
       "      <td>9</td>\n",
       "      <td>3</td>\n",
       "    </tr>\n",
       "  </tbody>\n",
       "</table>\n",
       "</div>"
      ],
      "text/plain": [
       "        num_graphs label_shape num_unique_labels num_node_features  \\\n",
       "HIV          41127  (41127, 1)                 2                 9   \n",
       "ClinTox       1484   (1484, 2)                 2                 9   \n",
       "MUTAG          188      (188,)                 2                 7   \n",
       "ESOL          1128   (1128, 1)               734                 9   \n",
       "BBBP          2050   (2050, 1)                 2                 9   \n",
       "BACE          1513   (1513, 1)                 2                 9   \n",
       "\n",
       "        num_edge_features  \n",
       "HIV                     3  \n",
       "ClinTox                 3  \n",
       "MUTAG                   4  \n",
       "ESOL                    3  \n",
       "BBBP                    3  \n",
       "BACE                    3  "
      ]
     },
     "execution_count": 15,
     "metadata": {},
     "output_type": "execute_result"
    }
   ],
   "source": [
    "# Get dataset info for each dataset\n",
    "datasets_info = {\n",
    "    'HIV': get_dataset_info(hiv_dataset),\n",
    "    'ClinTox': get_dataset_info(clintox_dataset),\n",
    "    'MUTAG': get_dataset_info(tu_dataset),\n",
    "    'ESOL': get_dataset_info(esol_dataset),\n",
    "    'BBBP': get_dataset_info(bbbp_dataset),\n",
    "    'BACE': get_dataset_info(bace_dataset)\n",
    "}\n",
    "\n",
    "df_dataset_info = pd.DataFrame(datasets_info).T\n",
    "df_dataset_info"
   ]
  },
  {
   "cell_type": "markdown",
   "id": "f0d99522-b344-4f99-8ef4-8269f04a8177",
   "metadata": {},
   "source": [
    "#### SMILES standardisation and filter uncommon elements"
   ]
  },
  {
   "cell_type": "code",
   "execution_count": 9,
   "id": "3dd20ff8-da73-4f1a-b209-a9ee5ca8f2eb",
   "metadata": {},
   "outputs": [
    {
     "name": "stderr",
     "output_type": "stream",
     "text": [
      "Processing molecules: 100%|█████████████████| 1484/1484 [00:35<00:00, 41.56it/s]\n"
     ]
    }
   ],
   "source": [
    "#COMMON_ELEMENTS = {1, 6, 7, 8, 9, 15, 16, 17, 35, 53}\n",
    "RDLogger.DisableLog('rdApp.*')\n",
    "\n",
    "df_clintox = pytorch_to_df(clintox_dataset)\n",
    "df_clintox = select_and_standardise(df_clintox, smiles_col='smiles', error_msg_col='error_msg', \n",
    "                       std_smiles_col='smiles_std')\n",
    "\n",
    "df_clintox.to_csv('chem_data/clintox_standardised.csv')"
   ]
  },
  {
   "cell_type": "code",
   "execution_count": 11,
   "id": "c5ce726e-ec12-4650-99c0-e9c540ef0752",
   "metadata": {},
   "outputs": [
    {
     "name": "stderr",
     "output_type": "stream",
     "text": [
      "Processing molecules: 100%|████████████████| 2050/2050 [00:20<00:00, 101.69it/s]\n"
     ]
    }
   ],
   "source": [
    "df_bbbp = pytorch_to_df(bbbp_dataset)\n",
    "df_bbbp = select_and_standardise(df_bbbp, smiles_col = 'smiles', error_msg_col = 'error_msg',\n",
    "                                 std_smiles_col = 'smiles_std')\n",
    "\n",
    "df_bbbp.to_csv('chem_data/bbbp_standardised.csv')"
   ]
  },
  {
   "cell_type": "code",
   "execution_count": 12,
   "id": "1714f848-31b2-400f-8ff9-d511e3671951",
   "metadata": {},
   "outputs": [
    {
     "name": "stderr",
     "output_type": "stream",
     "text": [
      "Processing molecules: 100%|████████████████| 1513/1513 [00:08<00:00, 170.97it/s]\n"
     ]
    }
   ],
   "source": [
    "df_bace = pytorch_to_df(bace_dataset)\n",
    "df_bace = select_and_standardise(df_bace, smiles_col = 'smiles', error_msg_col = 'error_msg',\n",
    "                                 std_smiles_col = 'smiles_std')\n",
    "\n",
    "df_bace.to_csv('chem_data/bace_standardised.csv')"
   ]
  },
  {
   "cell_type": "code",
   "execution_count": 11,
   "id": "7df8e5b0-a0c6-4aab-9392-dd7241afe227",
   "metadata": {},
   "outputs": [
    {
     "name": "stdout",
     "output_type": "stream",
     "text": [
      "1484 -> 1451\n"
     ]
    }
   ],
   "source": [
    "## Loading preprocessed ClinTox\n",
    "\n",
    "df_clintox = pd.read_csv('chem_data/clintox_standardised.csv', index_col = 0)\n",
    "df_clintox_filtered = df_clintox[df_clintox['error_msg'] == 'Success']\n",
    "print(df_clintox.shape[0], '->', df_clintox_filtered.shape[0])"
   ]
  },
  {
   "cell_type": "code",
   "execution_count": 11,
   "id": "fcd1a7ce-36bc-4f56-966b-8258fc80723f",
   "metadata": {},
   "outputs": [
    {
     "name": "stdout",
     "output_type": "stream",
     "text": [
      "2050 -> 2020\n"
     ]
    }
   ],
   "source": [
    "## Loading preprocessed BBBP\n",
    "\n",
    "df_bbbp = pd.read_csv('chem_data/bbbp_standardised.csv', index_col = 0)\n",
    "df_bbbp_filtered = df_bbbp[df_bbbp['error_msg'] == 'Success']\n",
    "print(df_bbbp.shape[0], '->', df_bbbp_filtered.shape[0])"
   ]
  },
  {
   "cell_type": "code",
   "execution_count": 12,
   "id": "1f5e88f9-9263-4093-a6e3-6d294435499a",
   "metadata": {},
   "outputs": [
    {
     "name": "stdout",
     "output_type": "stream",
     "text": [
      "1513 -> 1513\n"
     ]
    }
   ],
   "source": [
    "## Loading preprocessed BACE\n",
    "\n",
    "df_bace = pd.read_csv('chem_data/bace_standardised.csv', index_col = 0)\n",
    "df_bace_filtered = df_bace[df_bace['error_msg'] == 'Success']\n",
    "print(df_bace.shape[0], '->', df_bace_filtered.shape[0])"
   ]
  },
  {
   "cell_type": "markdown",
   "id": "afd5f081-95f8-47af-9f6e-bff7ab01dccc",
   "metadata": {},
   "source": [
    "#### Create custom pytorch dataset for bbbp and bace"
   ]
  },
  {
   "cell_type": "code",
   "execution_count": 13,
   "id": "1bc4215d-36e0-4c9a-814b-b41ed261aecf",
   "metadata": {},
   "outputs": [],
   "source": [
    "RDLogger.DisableLog('rdApp.*')"
   ]
  },
  {
   "cell_type": "code",
   "execution_count": 19,
   "id": "1ec475cc-e75b-4024-a7a6-5d515c040657",
   "metadata": {},
   "outputs": [
    {
     "name": "stderr",
     "output_type": "stream",
     "text": [
      "Processing...\n",
      " 98%|██████████████████████████████████████ | 1974/2020 [03:53<04:19,  5.65s/it]"
     ]
    },
    {
     "name": "stdout",
     "output_type": "stream",
     "text": [
      "Error processing molecule at index 1998: Bad Conformer Id\n"
     ]
    },
    {
     "name": "stderr",
     "output_type": "stream",
     "text": [
      "100%|███████████████████████████████████████| 2020/2020 [03:55<00:00,  8.58it/s]\n"
     ]
    },
    {
     "name": "stdout",
     "output_type": "stream",
     "text": [
      "[1998]\n",
      "(2020, 4) (2019, 4)\n"
     ]
    },
    {
     "name": "stderr",
     "output_type": "stream",
     "text": [
      "Done!\n"
     ]
    }
   ],
   "source": [
    "## Prerun to make sure bad conformer ids (molecules) are identified\n",
    "bbbp_cus_prerun = MoleculeDataset(dataframe=df_bbbp_filtered, smiles_col='smiles', \n",
    "                                  label_col='label', root='custom_data/bbbp/prerun/')\n",
    "\n",
    "error_indices = bbbp_cus_prerun.error_indices  # bad_indices: Get the error indices\n",
    "print(error_indices)\n",
    "# df_bbbp_filtered -> got rid of uncommon elements\n",
    "# df_bbbp_filtered_cleaned -> got rid of bad conformers\n",
    "df_bbbp_filtered_cleaned = df_bbbp_filtered.drop(index=error_indices)  # bad_indices: Drop the error indices\n",
    "df_bbbp_filtered_cleaned.to_csv('chem_data/bbbp_standardised_cleaned.csv')\n",
    "print(df_bbbp_filtered.shape, df_bbbp_filtered_cleaned.shape)"
   ]
  },
  {
   "cell_type": "code",
   "execution_count": 31,
   "id": "6005a54d-a64d-4024-ae68-9ae0f3169d94",
   "metadata": {},
   "outputs": [
    {
     "data": {
      "text/plain": [
       "2019"
      ]
     },
     "execution_count": 31,
     "metadata": {},
     "output_type": "execute_result"
    }
   ],
   "source": [
    "df_bbbp_filtered_cleaned = pd.read_csv('chem_data/bbbp_standardised_cleaned.csv', index_col = 0)\n",
    "\n",
    "bbbp_min = Graph_basic(dataframe = df_bbbp_filtered_cleaned,\n",
    "                              smiles_col = 'smiles',\n",
    "                             label_col = 'label',\n",
    "                             root = 'custom_data/minimal_feature/bbbp_min'\n",
    "                            )\n",
    "bbbp_cus_2_std = Graph_custom(dataframe = df_bbbp_filtered_cleaned,\n",
    "                              smiles_col = 'smiles_std',\n",
    "                             label_col = 'label',\n",
    "                             root = 'custom_data/bbbp/cus2_std/'\n",
    "                            )\n",
    "len(bbbp_cus_2_std)"
   ]
  },
  {
   "cell_type": "code",
   "execution_count": 11,
   "id": "1d7bf7b5-0fb3-49e5-a102-fe531d5d87ea",
   "metadata": {},
   "outputs": [
    {
     "data": {
      "image/png": "[encoded data removed]",
      "text/plain": [
       "<rdkit.Chem.rdchem.Mol at 0x32863c890>"
      ]
     },
     "metadata": {},
     "output_type": "display_data"
    },
    {
     "data": {
      "image/png": "[encoded data removed]",
      "text/plain": [
       "<rdkit.Chem.rdchem.Mol at 0x3101be9d0>"
      ]
     },
     "metadata": {},
     "output_type": "display_data"
    }
   ],
   "source": [
    "# Basic vs Custom molecular graphs\n",
    "display(graph_to_mol(bbbp_min[1079]),\n",
    "       graph_to_mol(bbbp_cus_2_std[1079]),)"
   ]
  },
  {
   "cell_type": "code",
   "execution_count": null,
   "id": "a0085969-3ecf-4522-b997-a1faa1d84544",
   "metadata": {},
   "outputs": [],
   "source": []
  },
  {
   "cell_type": "code",
   "execution_count": 35,
   "id": "dda3114a-323a-42d5-9507-cfaac64fc4c1",
   "metadata": {},
   "outputs": [
    {
     "name": "stderr",
     "output_type": "stream",
     "text": [
      "Processing...\n",
      "100%|███████████████████████████████████████| 1513/1513 [03:09<00:00,  7.99it/s]\n"
     ]
    },
    {
     "name": "stdout",
     "output_type": "stream",
     "text": [
      "[]\n",
      "(1513, 4) (1513, 4)\n"
     ]
    },
    {
     "name": "stderr",
     "output_type": "stream",
     "text": [
      "Done!\n"
     ]
    }
   ],
   "source": [
    "## Prerun to make sure bad conformer ids (molecules) are identified\n",
    "bace_cus_prerun = MoleculeDataset(dataframe=df_bace_filtered, smiles_col='smiles', \n",
    "                                  label_col='label', root='custom_data/bace/prerun/')\n",
    "\n",
    "error_indices = bace_cus_prerun.error_indices  # bad_indices: Get the error indices\n",
    "print(error_indices)\n",
    "# df_bace_filtered -> got rid of uncommon elements\n",
    "# df_bace_filtered_cleaned -> got rid of bad conformers\n",
    "df_bace_filtered_cleaned = df_bace_filtered.drop(index=error_indices)  # bad_indices: Drop the error indices\n",
    "df_bace_filtered_cleaned.to_csv('chem_data/bace_standardised_cleaned.csv')\n",
    "print(df_bace_filtered.shape, df_bace_filtered_cleaned.shape)"
   ]
  },
  {
   "cell_type": "code",
   "execution_count": 36,
   "id": "b21d34f2-247a-4360-b8d6-ee2741471694",
   "metadata": {},
   "outputs": [
    {
     "name": "stderr",
     "output_type": "stream",
     "text": [
      "Processing...\n",
      "100%|███████████████████████████████████████| 1513/1513 [03:08<00:00,  8.04it/s]\n",
      "Done!\n",
      "Processing...\n",
      "100%|███████████████████████████████████████| 1513/1513 [03:02<00:00,  8.30it/s]\n",
      "Done!\n",
      "/Users/ty/miniforge3/lib/python3.10/site-packages/torch_geometric/data/in_memory_dataset.py:300: UserWarning: It is not recommended to directly access the internal storage format `data` of an 'InMemoryDataset'. The given 'InMemoryDataset' only references a subset of examples of the full dataset, but 'data' will contain information of the full dataset. The data of the dataset is already cached, so any modifications to `data` will not be reflected when accessing its elements. Clearing the cache now by removing all elements in `dataset._data_list`. If you are absolutely certain what you are doing, access the internal storage via `InMemoryDataset._data` instead to suppress this warning. Alternatively, you can access stacked individual attributes of every graph via `dataset.{attr_name}`.\n",
      "  warnings.warn(msg)\n",
      "/Users/ty/miniforge3/lib/python3.10/site-packages/torch_geometric/data/in_memory_dataset.py:300: UserWarning: It is not recommended to directly access the internal storage format `data` of an 'InMemoryDataset'. The given 'InMemoryDataset' only references a subset of examples of the full dataset, but 'data' will contain information of the full dataset. If you are absolutely certain what you are doing, access the internal storage via `InMemoryDataset._data` instead to suppress this warning. Alternatively, you can access stacked individual attributes of every graph via `dataset.{attr_name}`.\n",
      "  warnings.warn(msg)\n"
     ]
    },
    {
     "data": {
      "text/plain": [
       "1513"
      ]
     },
     "execution_count": 36,
     "metadata": {},
     "output_type": "execute_result"
    }
   ],
   "source": [
    "df_bace_filtered_cleaned = pd.read_csv('chem_data/bace_standardised_cleaned.csv', index_col = 0)\n",
    "\n",
    "bace_min = Graph_basic(dataframe = df_bace_filtered_cleaned,\n",
    "                              smiles_col = 'smiles',\n",
    "                             label_col = 'label',\n",
    "                             root = 'custom_data/minimal_feature/bace_min'\n",
    "                            )\n",
    "bace_cus_2_std = Graph_custom(dataframe = df_bace_filtered_cleaned,\n",
    "                              smiles_col = 'smiles_std',\n",
    "                             label_col = 'label',\n",
    "                             root = 'custom_data/bace/cus2_std/'\n",
    "                            )\n",
    "len(bace_cus_2_std)"
   ]
  },
  {
   "cell_type": "code",
   "execution_count": 12,
   "id": "57e9d5c9-48bb-498d-b69d-aea7b22aae0a",
   "metadata": {},
   "outputs": [
    {
     "data": {
      "image/png": "[encoded data removed]",
      "text/plain": [
       "<rdkit.Chem.rdchem.Mol at 0x32863cb30>"
      ]
     },
     "metadata": {},
     "output_type": "display_data"
    },
    {
     "data": {
      "image/png": "[encoded data removed]",
      "text/plain": [
       "<rdkit.Chem.rdchem.Mol at 0x328225cb0>"
      ]
     },
     "metadata": {},
     "output_type": "display_data"
    }
   ],
   "source": [
    "# Basic vs Custom molecular graphs\n",
    "display(graph_to_mol(bace_min[1079]),\n",
    "       graph_to_mol(bace_cus_2_std[1079]))"
   ]
  },
  {
   "cell_type": "markdown",
   "id": "4165fc04-375a-4a9f-a02a-f4bf62dbe46f",
   "metadata": {},
   "source": [
    "#### Create custom pytorch dataset for DILIst"
   ]
  },
  {
   "cell_type": "code",
   "execution_count": 6,
   "id": "210e4ab5-d22e-483e-8ebe-3913b863ada7",
   "metadata": {},
   "outputs": [
    {
     "name": "stdout",
     "output_type": "stream",
     "text": [
      "fail to retrieve SMILES molecules:  78\n"
     ]
    },
    {
     "name": "stderr",
     "output_type": "stream",
     "text": [
      "Processing molecules: 100%|█████████████████| 1201/1201 [00:31<00:00, 38.27it/s]\n"
     ]
    }
   ],
   "source": [
    "# we retrieved SMILES from pubchem\n",
    "# df_DILI_fail: failed to retrieve SMILES molecules, see GNN_benchmark_DILI2\n",
    "RDLogger.DisableLog('rdApp.*')\n",
    "df_DILI = pd.read_csv('chem_data/DILIst_smiles.csv', index_col = 0)\n",
    "df_DILI_fail = df_DILI[df_DILI['smiles'].isna()]\n",
    "print('fail to retrieve SMILES molecules: ',df_DILI_fail.shape[0])\n",
    "df_DILI = df_DILI.dropna(subset = ['smiles'])\n",
    "\n",
    "df_DILI = select_and_standardise(\n",
    "    df = df_DILI, smiles_col = 'smiles', \n",
    "    error_msg_col = 'error_msg', std_smiles_col = 'smiles_std'\n",
    ")\n",
    "df_DILI.to_csv('chem_data/DILI/DILIst_standardised.csv')"
   ]
  },
  {
   "cell_type": "code",
   "execution_count": 7,
   "id": "13b3cba2-ac28-4096-b359-02c39c015845",
   "metadata": {},
   "outputs": [
    {
     "name": "stdout",
     "output_type": "stream",
     "text": [
      "1201 -> 1167\n"
     ]
    }
   ],
   "source": [
    "## Loading preprocessed DILI\n",
    "\n",
    "df_DILI = pd.read_csv('chem_data/DILI/DILIst_standardised.csv', index_col = 0)\n",
    "df_DILI_filtered = df_DILI[df_DILI['error_msg'] == 'Success']\n",
    "print(df_DILI.shape[0], '->', df_DILI_filtered.shape[0])"
   ]
  },
  {
   "cell_type": "code",
   "execution_count": 8,
   "id": "c252949e-ff86-4bfb-a4ed-e225fcd7caba",
   "metadata": {},
   "outputs": [
    {
     "name": "stderr",
     "output_type": "stream",
     "text": [
      "Processing...\n",
      "100%|███████████████████████████████████████| 1167/1167 [07:49<00:00,  2.49it/s]"
     ]
    },
    {
     "name": "stdout",
     "output_type": "stream",
     "text": [
      "[]\n",
      "(1167, 7) (1167, 7)\n"
     ]
    },
    {
     "name": "stderr",
     "output_type": "stream",
     "text": [
      "\n",
      "Done!\n"
     ]
    }
   ],
   "source": [
    "dili_cus_prerun = MoleculeDataset(dataframe = df_DILI_filtered,\n",
    "                              smiles_col = 'smiles',\n",
    "                             label_col = 'label',\n",
    "                             root = 'custom_data/DILI/prerun/'\n",
    "                            )\n",
    "error_indices = dili_cus_prerun.error_indices  # bad_indices: Get the error indices\n",
    "print(error_indices)\n",
    "# df_dili_filtered -> got rid of uncommon elements\n",
    "# df_dili_filtered_cleaned -> got rid of bad conformers\n",
    "df_DILI_filtered_cleaned = df_DILI_filtered.drop(index=error_indices)  # bad_indices: Drop the error indices\n",
    "df_DILI_filtered_cleaned.to_csv('chem_data/DILI/DILIst_standardised_cleaned.csv')\n",
    "print(df_DILI_filtered.shape, df_DILI_filtered_cleaned.shape)"
   ]
  },
  {
   "cell_type": "code",
   "execution_count": 9,
   "id": "24ed48a7-8cb7-4cc1-828d-841195977d35",
   "metadata": {},
   "outputs": [],
   "source": [
    "df_dili_filtered_cleaned = pd.read_csv('chem_data/DILI/DILIst_standardised_cleaned.csv', index_col = 0)\n",
    "\n",
    "dlst_cus_2_std = Graph_custom(dataframe = df_dili_filtered_cleaned,\n",
    "                              smiles_col = 'smiles_std',\n",
    "                             label_col = 'label',\n",
    "                             root = 'custom_data/DILI/cus2_std/'\n",
    "                            )\n",
    "\n",
    "dlst_min = Graph_basic(dataframe = df_dili_filtered_cleaned,\n",
    "                              smiles_col = 'smiles_std',\n",
    "                             label_col = 'label',\n",
    "                             root = 'custom_data/minimal_feature/dlst_min/'\n",
    "                            )"
   ]
  },
  {
   "cell_type": "markdown",
   "id": "fa4b7fb8-8962-45d6-87a2-acfa2acf8f19",
   "metadata": {},
   "source": [
    "#### DILIst (FDA) and DeepDILI (Li et al., 2020) data comparison"
   ]
  },
  {
   "cell_type": "code",
   "execution_count": 11,
   "id": "501d6534-0dbf-4a5c-a976-08ad2c10ebda",
   "metadata": {},
   "outputs": [
    {
     "name": "stdout",
     "output_type": "stream",
     "text": [
      "Number of molecules in DILIst (2020): 1279\n",
      "fail to retrieve SMILES molecules:  78\n"
     ]
    },
    {
     "name": "stderr",
     "output_type": "stream",
     "text": [
      "Processing molecules: 100%|████████████████████████████████████████████████████████| 1201/1201 [01:33<00:00, 12.90it/s]\n"
     ]
    }
   ],
   "source": [
    "# we retrieved SMILES from pubchem\n",
    "# df_DILI_fail: failed to retrieve SMILES molecules, see GNN_benchmark_DILI2 (GNN_benchmar_DILI)\n",
    "RDLogger.DisableLog('rdApp.*')\n",
    "df_DILI = pd.read_csv('chem_data/DILIst_smiles.csv', index_col = 0)\n",
    "print('Number of molecules in DILIst (2020):', df_DILI.shape[0])\n",
    "df_DILI_fail = df_DILI[df_DILI['smiles'].isna()]\n",
    "df_DILI_fail.to_csv('chem_data/DILIst_failed_smiles.csv')\n",
    "print('fail to retrieve SMILES molecules: ',df_DILI_fail.shape[0])\n",
    "\n",
    "df_DILI = df_DILI.dropna(subset = ['smiles'])\n",
    "df_DILI = select_and_standardise(\n",
    "    df = df_DILI, smiles_col = 'smiles', \n",
    "    error_msg_col = 'error_msg', std_smiles_col = 'smiles_std'\n",
    ")\n",
    "#df_DILI.to_csv('chem_data/DILI/DILIst_standardised.csv')"
   ]
  },
  {
   "cell_type": "code",
   "execution_count": 12,
   "id": "6638105e-c530-4f1f-a1b3-c14b0f8f94d9",
   "metadata": {},
   "outputs": [
    {
     "name": "stdout",
     "output_type": "stream",
     "text": [
      "1201 -> 1167\n"
     ]
    }
   ],
   "source": [
    "df_DILI_filtered = df_DILI[df_DILI['error_msg'] == 'Success']\n",
    "print(df_DILI.shape[0], '->', df_DILI_filtered.shape[0])"
   ]
  },
  {
   "cell_type": "code",
   "execution_count": 3,
   "id": "0962c06a-7a4f-4a5f-9a8a-d16e826b74f5",
   "metadata": {},
   "outputs": [
    {
     "name": "stdout",
     "output_type": "stream",
     "text": [
      "(753, 6)\n",
      "(249, 12)\n",
      "(1002, 12)\n"
     ]
    }
   ],
   "source": [
    "## Look at result_dili.ipynb for DeepDILI and bioactive_data_training for DILI\n",
    "\n",
    "df_deepdili_train = pd.read_excel('chem_data/DeepDILI/tx0c00374_si_004.xlsx', sheet_name = 0)\n",
    "df_deepdili_test = pd.read_excel('chem_data/DeepDILI/tx0c00374_si_004.xlsx', sheet_name = 1)\n",
    "print(df_deepdili_train.shape)\n",
    "print(df_deepdili_test.shape)\n",
    "df_deepdili = pd.concat([df_deepdili_train, df_deepdili_test], ignore_index = True)\n",
    "print(df_deepdili.shape)"
   ]
  },
  {
   "cell_type": "code",
   "execution_count": 5,
   "id": "c8f127b2-0d15-4362-b873-7d1ad2bec9b5",
   "metadata": {},
   "outputs": [
    {
     "name": "stderr",
     "output_type": "stream",
     "text": [
      "Processing molecules: 100%|████████████████████████████████████████████████████████| 1002/1002 [00:24<00:00, 41.46it/s]\n"
     ]
    }
   ],
   "source": [
    "RDLogger.DisableLog('rdApp.*')\n",
    "df_deepdili = select_and_standardise(\n",
    "    df = df_deepdili, smiles_col = 'Canonical SMILES', \n",
    "    error_msg_col = 'error_msg', std_smiles_col = 'smiles_std'\n",
    ")\n",
    "#df_deepdili.to_csv('chem_data/DeepDILI/DeepDILI_standardised.csv')"
   ]
  },
  {
   "cell_type": "code",
   "execution_count": 6,
   "id": "b8fcde3b-e823-4c4f-be73-8a10d9eceb27",
   "metadata": {},
   "outputs": [
    {
     "data": {
      "text/html": [
       "<div>\n",
       "<style scoped>\n",
       "    .dataframe tbody tr th:only-of-type {\n",
       "        vertical-align: middle;\n",
       "    }\n",
       "\n",
       "    .dataframe tbody tr th {\n",
       "        vertical-align: top;\n",
       "    }\n",
       "\n",
       "    .dataframe thead th {\n",
       "        text-align: right;\n",
       "    }\n",
       "</style>\n",
       "<table border=\"1\" class=\"dataframe\">\n",
       "  <thead>\n",
       "    <tr style=\"text-align: right;\">\n",
       "      <th></th>\n",
       "      <th>CID</th>\n",
       "      <th>Canonical SMILES</th>\n",
       "      <th>CompoundName</th>\n",
       "      <th>initial_approval_year</th>\n",
       "      <th>DILI_label</th>\n",
       "      <th>Usage</th>\n",
       "      <th>mold2_prob_DeepDILI</th>\n",
       "      <th>mold2_class_DeepDILI</th>\n",
       "      <th>mol2vec_prob_DeepDILI</th>\n",
       "      <th>mol2vec_class_DeepDILI</th>\n",
       "      <th>maccs_prob_DeepDILI</th>\n",
       "      <th>maccs_class_DeepDILI</th>\n",
       "      <th>error_msg</th>\n",
       "      <th>smiles_std</th>\n",
       "    </tr>\n",
       "  </thead>\n",
       "  <tbody>\n",
       "    <tr>\n",
       "      <th>294</th>\n",
       "      <td>16682734</td>\n",
       "      <td>O.O=C1O[Bi]Oc2ccccc12</td>\n",
       "      <td>BISMUTH SUBSALICYLATE</td>\n",
       "      <td>1954</td>\n",
       "      <td>0</td>\n",
       "      <td>training_set_1</td>\n",
       "      <td>NaN</td>\n",
       "      <td>NaN</td>\n",
       "      <td>NaN</td>\n",
       "      <td>NaN</td>\n",
       "      <td>NaN</td>\n",
       "      <td>NaN</td>\n",
       "      <td>Contains uncommon element: 83</td>\n",
       "      <td>None</td>\n",
       "    </tr>\n",
       "    <tr>\n",
       "      <th>583</th>\n",
       "      <td>1985</td>\n",
       "      <td>CC(=O)Nc1cc(ccc1O)[As](=O)(O)O</td>\n",
       "      <td>ACETARSOL</td>\n",
       "      <td>1964</td>\n",
       "      <td>1</td>\n",
       "      <td>training_set_1</td>\n",
       "      <td>NaN</td>\n",
       "      <td>NaN</td>\n",
       "      <td>NaN</td>\n",
       "      <td>NaN</td>\n",
       "      <td>NaN</td>\n",
       "      <td>NaN</td>\n",
       "      <td>Contains uncommon element: 33</td>\n",
       "      <td>None</td>\n",
       "    </tr>\n",
       "    <tr>\n",
       "      <th>776</th>\n",
       "      <td>387447</td>\n",
       "      <td>CC(C)C[C@H](NC(=O)[C@H](Cc1ccccc1)NC(=O)c2cncc...</td>\n",
       "      <td>BORTEZOMIB</td>\n",
       "      <td>2003</td>\n",
       "      <td>1</td>\n",
       "      <td>test</td>\n",
       "      <td>0.54993</td>\n",
       "      <td>1.0</td>\n",
       "      <td>0.646042</td>\n",
       "      <td>1.0</td>\n",
       "      <td>0.642631</td>\n",
       "      <td>1.0</td>\n",
       "      <td>Contains uncommon element: 5</td>\n",
       "      <td>None</td>\n",
       "    </tr>\n",
       "  </tbody>\n",
       "</table>\n",
       "</div>"
      ],
      "text/plain": [
       "          CID                                   Canonical SMILES  \\\n",
       "294  16682734                              O.O=C1O[Bi]Oc2ccccc12   \n",
       "583      1985                     CC(=O)Nc1cc(ccc1O)[As](=O)(O)O   \n",
       "776    387447  CC(C)C[C@H](NC(=O)[C@H](Cc1ccccc1)NC(=O)c2cncc...   \n",
       "\n",
       "              CompoundName  initial_approval_year  DILI_label           Usage  \\\n",
       "294  BISMUTH SUBSALICYLATE                   1954           0  training_set_1   \n",
       "583              ACETARSOL                   1964           1  training_set_1   \n",
       "776             BORTEZOMIB                   2003           1            test   \n",
       "\n",
       "     mold2_prob_DeepDILI  mold2_class_DeepDILI  mol2vec_prob_DeepDILI  \\\n",
       "294                  NaN                   NaN                    NaN   \n",
       "583                  NaN                   NaN                    NaN   \n",
       "776              0.54993                   1.0               0.646042   \n",
       "\n",
       "     mol2vec_class_DeepDILI  maccs_prob_DeepDILI  maccs_class_DeepDILI  \\\n",
       "294                     NaN                  NaN                   NaN   \n",
       "583                     NaN                  NaN                   NaN   \n",
       "776                     1.0             0.642631                   1.0   \n",
       "\n",
       "                         error_msg smiles_std  \n",
       "294  Contains uncommon element: 83       None  \n",
       "583  Contains uncommon element: 33       None  \n",
       "776   Contains uncommon element: 5       None  "
      ]
     },
     "metadata": {},
     "output_type": "display_data"
    },
    {
     "name": "stdout",
     "output_type": "stream",
     "text": [
      "1002 -> 999\n"
     ]
    }
   ],
   "source": [
    "display(df_deepdili[df_deepdili['error_msg'] != 'Success'].head())\n",
    "# Get rid of uncommon elements (filtered)\n",
    "df_deepdili_filtered = df_deepdili[df_deepdili['error_msg'] == 'Success']\n",
    "print(df_deepdili.shape[0], '->', df_deepdili_filtered.shape[0])"
   ]
  },
  {
   "cell_type": "code",
   "execution_count": 8,
   "id": "4f1ead4e-63bc-4845-b297-157cc549296a",
   "metadata": {},
   "outputs": [
    {
     "data": {
      "text/html": [
       "<div>\n",
       "<style scoped>\n",
       "    .dataframe tbody tr th:only-of-type {\n",
       "        vertical-align: middle;\n",
       "    }\n",
       "\n",
       "    .dataframe tbody tr th {\n",
       "        vertical-align: top;\n",
       "    }\n",
       "\n",
       "    .dataframe thead th {\n",
       "        text-align: right;\n",
       "    }\n",
       "</style>\n",
       "<table border=\"1\" class=\"dataframe\">\n",
       "  <thead>\n",
       "    <tr style=\"text-align: right;\">\n",
       "      <th></th>\n",
       "      <th>name</th>\n",
       "      <th>label</th>\n",
       "      <th>Routs of Administration</th>\n",
       "      <th>smiles</th>\n",
       "      <th>smiles_pcp</th>\n",
       "      <th>error_msg</th>\n",
       "      <th>smiles_std</th>\n",
       "    </tr>\n",
       "    <tr>\n",
       "      <th>DILIST_ID</th>\n",
       "      <th></th>\n",
       "      <th></th>\n",
       "      <th></th>\n",
       "      <th></th>\n",
       "      <th></th>\n",
       "      <th></th>\n",
       "      <th></th>\n",
       "    </tr>\n",
       "  </thead>\n",
       "  <tbody>\n",
       "    <tr>\n",
       "      <th>1</th>\n",
       "      <td>mercaptopurine</td>\n",
       "      <td>1</td>\n",
       "      <td>Oral</td>\n",
       "      <td>C1=NC2=C(N1)C(=S)N=CN2</td>\n",
       "      <td>C1=NC2=C(N1)C(=S)N=CN2</td>\n",
       "      <td>Success</td>\n",
       "      <td>S=c1[nH]cnc2[nH]cnc12</td>\n",
       "    </tr>\n",
       "    <tr>\n",
       "      <th>2</th>\n",
       "      <td>acetaminophen</td>\n",
       "      <td>1</td>\n",
       "      <td>Oral</td>\n",
       "      <td>CC(=O)NC1=CC=C(C=C1)O</td>\n",
       "      <td>CC(=O)NC1=CC=C(C=C1)O</td>\n",
       "      <td>Success</td>\n",
       "      <td>CC(=O)Nc1ccc(O)cc1</td>\n",
       "    </tr>\n",
       "    <tr>\n",
       "      <th>3</th>\n",
       "      <td>azathioprine</td>\n",
       "      <td>1</td>\n",
       "      <td>Oral</td>\n",
       "      <td>CN1C=NC(=C1SC2=NC=NC3=C2NC=N3)[N+](=O)[O-]</td>\n",
       "      <td>CN1C=NC(=C1SC2=NC=NC3=C2NC=N3)[N+](=O)[O-]</td>\n",
       "      <td>Success</td>\n",
       "      <td>Cn1cnc([N+](=O)[O-])c1Sc1ncnc2[nH]cnc12</td>\n",
       "    </tr>\n",
       "    <tr>\n",
       "      <th>4</th>\n",
       "      <td>chlorpheniramine</td>\n",
       "      <td>0</td>\n",
       "      <td>Oral</td>\n",
       "      <td>CN(C)CCC(C1=CC=C(C=C1)Cl)C2=CC=CC=N2</td>\n",
       "      <td>CN(C)CCC(C1=CC=C(C=C1)Cl)C2=CC=CC=N2</td>\n",
       "      <td>Success</td>\n",
       "      <td>CN(C)CCC(c1ccc(Cl)cc1)c1ccccn1</td>\n",
       "    </tr>\n",
       "    <tr>\n",
       "      <th>5</th>\n",
       "      <td>clofibrate</td>\n",
       "      <td>1</td>\n",
       "      <td>Oral</td>\n",
       "      <td>CCOC(=O)C(C)(C)OC1=CC=C(C=C1)Cl</td>\n",
       "      <td>CCOC(=O)C(C)(C)OC1=CC=C(C=C1)Cl</td>\n",
       "      <td>Success</td>\n",
       "      <td>CCOC(=O)C(C)(C)Oc1ccc(Cl)cc1</td>\n",
       "    </tr>\n",
       "  </tbody>\n",
       "</table>\n",
       "</div>"
      ],
      "text/plain": [
       "                       name  label Routs of Administration   \\\n",
       "DILIST_ID                                                     \n",
       "1            mercaptopurine      1                     Oral   \n",
       "2             acetaminophen      1                     Oral   \n",
       "3              azathioprine      1                     Oral   \n",
       "4          chlorpheniramine      0                     Oral   \n",
       "5                clofibrate      1                     Oral   \n",
       "\n",
       "                                               smiles  \\\n",
       "DILIST_ID                                               \n",
       "1                              C1=NC2=C(N1)C(=S)N=CN2   \n",
       "2                               CC(=O)NC1=CC=C(C=C1)O   \n",
       "3          CN1C=NC(=C1SC2=NC=NC3=C2NC=N3)[N+](=O)[O-]   \n",
       "4                CN(C)CCC(C1=CC=C(C=C1)Cl)C2=CC=CC=N2   \n",
       "5                     CCOC(=O)C(C)(C)OC1=CC=C(C=C1)Cl   \n",
       "\n",
       "                                           smiles_pcp error_msg  \\\n",
       "DILIST_ID                                                         \n",
       "1                              C1=NC2=C(N1)C(=S)N=CN2   Success   \n",
       "2                               CC(=O)NC1=CC=C(C=C1)O   Success   \n",
       "3          CN1C=NC(=C1SC2=NC=NC3=C2NC=N3)[N+](=O)[O-]   Success   \n",
       "4                CN(C)CCC(C1=CC=C(C=C1)Cl)C2=CC=CC=N2   Success   \n",
       "5                     CCOC(=O)C(C)(C)OC1=CC=C(C=C1)Cl   Success   \n",
       "\n",
       "                                        smiles_std  \n",
       "DILIST_ID                                           \n",
       "1                            S=c1[nH]cnc2[nH]cnc12  \n",
       "2                               CC(=O)Nc1ccc(O)cc1  \n",
       "3          Cn1cnc([N+](=O)[O-])c1Sc1ncnc2[nH]cnc12  \n",
       "4                   CN(C)CCC(c1ccc(Cl)cc1)c1ccccn1  \n",
       "5                     CCOC(=O)C(C)(C)Oc1ccc(Cl)cc1  "
      ]
     },
     "execution_count": 8,
     "metadata": {},
     "output_type": "execute_result"
    }
   ],
   "source": [
    "# preprocessed DILI\n",
    "df_dili = pd.read_csv('chem_data/DILI/DILIst_standardised_cleaned.csv', index_col = 0)\n",
    "df_dili.head()"
   ]
  },
  {
   "cell_type": "code",
   "execution_count": 25,
   "id": "44f69ce8-97ea-47be-97e2-7a637612a481",
   "metadata": {},
   "outputs": [
    {
     "data": {
      "text/plain": [
       "(1002, 14)"
      ]
     },
     "execution_count": 25,
     "metadata": {},
     "output_type": "execute_result"
    }
   ],
   "source": [
    "# original DILI\n",
    "df_deepdili = pd.read_csv('chem_data/DeepDILI/DeepDILI_standardised.csv', index_col = 0)\n",
    "df_deepdili['CompoundName'] = df_deepdili['CompoundName'].str.lower()\n",
    "df_deepdili.shape"
   ]
  },
  {
   "cell_type": "code",
   "execution_count": 24,
   "id": "599997b7-c935-49c3-beab-02804c62c784",
   "metadata": {},
   "outputs": [
    {
     "data": {
      "text/html": [
       "<div>\n",
       "<style scoped>\n",
       "    .dataframe tbody tr th:only-of-type {\n",
       "        vertical-align: middle;\n",
       "    }\n",
       "\n",
       "    .dataframe tbody tr th {\n",
       "        vertical-align: top;\n",
       "    }\n",
       "\n",
       "    .dataframe thead th {\n",
       "        text-align: right;\n",
       "    }\n",
       "</style>\n",
       "<table border=\"1\" class=\"dataframe\">\n",
       "  <thead>\n",
       "    <tr style=\"text-align: right;\">\n",
       "      <th></th>\n",
       "      <th>CID</th>\n",
       "      <th>Canonical SMILES</th>\n",
       "      <th>CompoundName</th>\n",
       "      <th>initial_approval_year</th>\n",
       "      <th>DILI_label</th>\n",
       "      <th>Usage</th>\n",
       "      <th>mold2_prob_DeepDILI</th>\n",
       "      <th>mold2_class_DeepDILI</th>\n",
       "      <th>mol2vec_prob_DeepDILI</th>\n",
       "      <th>mol2vec_class_DeepDILI</th>\n",
       "      <th>maccs_prob_DeepDILI</th>\n",
       "      <th>maccs_class_DeepDILI</th>\n",
       "      <th>error_msg</th>\n",
       "      <th>smiles_std</th>\n",
       "    </tr>\n",
       "  </thead>\n",
       "  <tbody>\n",
       "    <tr>\n",
       "      <th>294</th>\n",
       "      <td>16682734</td>\n",
       "      <td>O.O=C1O[Bi]Oc2ccccc12</td>\n",
       "      <td>bismuth subsalicylate</td>\n",
       "      <td>1954</td>\n",
       "      <td>0</td>\n",
       "      <td>training_set_1</td>\n",
       "      <td>NaN</td>\n",
       "      <td>NaN</td>\n",
       "      <td>NaN</td>\n",
       "      <td>NaN</td>\n",
       "      <td>NaN</td>\n",
       "      <td>NaN</td>\n",
       "      <td>Contains uncommon element: 83</td>\n",
       "      <td>NaN</td>\n",
       "    </tr>\n",
       "    <tr>\n",
       "      <th>409</th>\n",
       "      <td>45266800</td>\n",
       "      <td>CC1(C)S[C@@H](N[C@H]1C(=O)O)C(NC(=O)Cc2ccccc2)...</td>\n",
       "      <td>benzylpenicilloyl polylysine</td>\n",
       "      <td>1974</td>\n",
       "      <td>0</td>\n",
       "      <td>training_set_1</td>\n",
       "      <td>NaN</td>\n",
       "      <td>NaN</td>\n",
       "      <td>NaN</td>\n",
       "      <td>NaN</td>\n",
       "      <td>NaN</td>\n",
       "      <td>NaN</td>\n",
       "      <td>Success</td>\n",
       "      <td>CC1(C)S[C@H](C(NC(=O)Cc2ccccc2)C(=O)NCCCCC(N)C...</td>\n",
       "    </tr>\n",
       "    <tr>\n",
       "      <th>583</th>\n",
       "      <td>1985</td>\n",
       "      <td>CC(=O)Nc1cc(ccc1O)[As](=O)(O)O</td>\n",
       "      <td>acetarsol</td>\n",
       "      <td>1964</td>\n",
       "      <td>1</td>\n",
       "      <td>training_set_1</td>\n",
       "      <td>NaN</td>\n",
       "      <td>NaN</td>\n",
       "      <td>NaN</td>\n",
       "      <td>NaN</td>\n",
       "      <td>NaN</td>\n",
       "      <td>NaN</td>\n",
       "      <td>Contains uncommon element: 33</td>\n",
       "      <td>NaN</td>\n",
       "    </tr>\n",
       "    <tr>\n",
       "      <th>609</th>\n",
       "      <td>24846132</td>\n",
       "      <td>COC1C(O)C(O)C(OCC2OC(OC3C(O)C(O)C(C)OC3CO)C(O)...</td>\n",
       "      <td>hetastarch</td>\n",
       "      <td>1991</td>\n",
       "      <td>0</td>\n",
       "      <td>training_set_2</td>\n",
       "      <td>NaN</td>\n",
       "      <td>NaN</td>\n",
       "      <td>NaN</td>\n",
       "      <td>NaN</td>\n",
       "      <td>NaN</td>\n",
       "      <td>NaN</td>\n",
       "      <td>Success</td>\n",
       "      <td>COC1C(CO)OC(OCC2OC(OC3C(CO)OC(C)C(O)C3O)C(O)C(...</td>\n",
       "    </tr>\n",
       "    <tr>\n",
       "      <th>615</th>\n",
       "      <td>75905</td>\n",
       "      <td>OS(=O)(=O)c1ccc(C=C)cc1</td>\n",
       "      <td>sodium polystyrene sulfonate</td>\n",
       "      <td>1958</td>\n",
       "      <td>0</td>\n",
       "      <td>training_set_2</td>\n",
       "      <td>NaN</td>\n",
       "      <td>NaN</td>\n",
       "      <td>NaN</td>\n",
       "      <td>NaN</td>\n",
       "      <td>NaN</td>\n",
       "      <td>NaN</td>\n",
       "      <td>Success</td>\n",
       "      <td>C=Cc1ccc(S(=O)(=O)O)cc1</td>\n",
       "    </tr>\n",
       "    <tr>\n",
       "      <th>688</th>\n",
       "      <td>2349</td>\n",
       "      <td>CC1(C)SC2C(NC(=O)Cc3ccccc3)C(=O)N2C1C(=O)O</td>\n",
       "      <td>penicillin</td>\n",
       "      <td>1942</td>\n",
       "      <td>1</td>\n",
       "      <td>training_set_2</td>\n",
       "      <td>NaN</td>\n",
       "      <td>NaN</td>\n",
       "      <td>NaN</td>\n",
       "      <td>NaN</td>\n",
       "      <td>NaN</td>\n",
       "      <td>NaN</td>\n",
       "      <td>Success</td>\n",
       "      <td>CC1(C)SC2C(NC(=O)Cc3ccccc3)C(=O)N2C1C(=O)O</td>\n",
       "    </tr>\n",
       "    <tr>\n",
       "      <th>776</th>\n",
       "      <td>387447</td>\n",
       "      <td>CC(C)C[C@H](NC(=O)[C@H](Cc1ccccc1)NC(=O)c2cncc...</td>\n",
       "      <td>bortezomib</td>\n",
       "      <td>2003</td>\n",
       "      <td>1</td>\n",
       "      <td>test</td>\n",
       "      <td>0.549930</td>\n",
       "      <td>1.0</td>\n",
       "      <td>0.646042</td>\n",
       "      <td>1.0</td>\n",
       "      <td>0.642631</td>\n",
       "      <td>1.0</td>\n",
       "      <td>Contains uncommon element: 5</td>\n",
       "      <td>NaN</td>\n",
       "    </tr>\n",
       "    <tr>\n",
       "      <th>946</th>\n",
       "      <td>4870</td>\n",
       "      <td>CN1C(CSCC(F)(F)F)Nc2cc(Cl)c(cc2S1(=O)=O)S(=O)(...</td>\n",
       "      <td>polythiazide</td>\n",
       "      <td>2005</td>\n",
       "      <td>0</td>\n",
       "      <td>test</td>\n",
       "      <td>0.928195</td>\n",
       "      <td>1.0</td>\n",
       "      <td>0.816138</td>\n",
       "      <td>1.0</td>\n",
       "      <td>0.703095</td>\n",
       "      <td>1.0</td>\n",
       "      <td>Success</td>\n",
       "      <td>CN1C(CSCC(F)(F)F)Nc2cc(Cl)c(S(N)(=O)=O)cc2S1(=...</td>\n",
       "    </tr>\n",
       "  </tbody>\n",
       "</table>\n",
       "</div>"
      ],
      "text/plain": [
       "          CID                                   Canonical SMILES  \\\n",
       "294  16682734                              O.O=C1O[Bi]Oc2ccccc12   \n",
       "409  45266800  CC1(C)S[C@@H](N[C@H]1C(=O)O)C(NC(=O)Cc2ccccc2)...   \n",
       "583      1985                     CC(=O)Nc1cc(ccc1O)[As](=O)(O)O   \n",
       "609  24846132  COC1C(O)C(O)C(OCC2OC(OC3C(O)C(O)C(C)OC3CO)C(O)...   \n",
       "615     75905                            OS(=O)(=O)c1ccc(C=C)cc1   \n",
       "688      2349         CC1(C)SC2C(NC(=O)Cc3ccccc3)C(=O)N2C1C(=O)O   \n",
       "776    387447  CC(C)C[C@H](NC(=O)[C@H](Cc1ccccc1)NC(=O)c2cncc...   \n",
       "946      4870  CN1C(CSCC(F)(F)F)Nc2cc(Cl)c(cc2S1(=O)=O)S(=O)(...   \n",
       "\n",
       "                     CompoundName  initial_approval_year  DILI_label  \\\n",
       "294         bismuth subsalicylate                   1954           0   \n",
       "409  benzylpenicilloyl polylysine                   1974           0   \n",
       "583                     acetarsol                   1964           1   \n",
       "609                    hetastarch                   1991           0   \n",
       "615  sodium polystyrene sulfonate                   1958           0   \n",
       "688                    penicillin                   1942           1   \n",
       "776                    bortezomib                   2003           1   \n",
       "946                  polythiazide                   2005           0   \n",
       "\n",
       "              Usage  mold2_prob_DeepDILI  mold2_class_DeepDILI  \\\n",
       "294  training_set_1                  NaN                   NaN   \n",
       "409  training_set_1                  NaN                   NaN   \n",
       "583  training_set_1                  NaN                   NaN   \n",
       "609  training_set_2                  NaN                   NaN   \n",
       "615  training_set_2                  NaN                   NaN   \n",
       "688  training_set_2                  NaN                   NaN   \n",
       "776            test             0.549930                   1.0   \n",
       "946            test             0.928195                   1.0   \n",
       "\n",
       "     mol2vec_prob_DeepDILI  mol2vec_class_DeepDILI  maccs_prob_DeepDILI  \\\n",
       "294                    NaN                     NaN                  NaN   \n",
       "409                    NaN                     NaN                  NaN   \n",
       "583                    NaN                     NaN                  NaN   \n",
       "609                    NaN                     NaN                  NaN   \n",
       "615                    NaN                     NaN                  NaN   \n",
       "688                    NaN                     NaN                  NaN   \n",
       "776               0.646042                     1.0             0.642631   \n",
       "946               0.816138                     1.0             0.703095   \n",
       "\n",
       "     maccs_class_DeepDILI                      error_msg  \\\n",
       "294                   NaN  Contains uncommon element: 83   \n",
       "409                   NaN                        Success   \n",
       "583                   NaN  Contains uncommon element: 33   \n",
       "609                   NaN                        Success   \n",
       "615                   NaN                        Success   \n",
       "688                   NaN                        Success   \n",
       "776                   1.0   Contains uncommon element: 5   \n",
       "946                   1.0                        Success   \n",
       "\n",
       "                                            smiles_std  \n",
       "294                                                NaN  \n",
       "409  CC1(C)S[C@H](C(NC(=O)Cc2ccccc2)C(=O)NCCCCC(N)C...  \n",
       "583                                                NaN  \n",
       "609  COC1C(CO)OC(OCC2OC(OC3C(CO)OC(C)C(O)C3O)C(O)C(...  \n",
       "615                            C=Cc1ccc(S(=O)(=O)O)cc1  \n",
       "688         CC1(C)SC2C(NC(=O)Cc3ccccc3)C(=O)N2C1C(=O)O  \n",
       "776                                                NaN  \n",
       "946  CN1C(CSCC(F)(F)F)Nc2cc(Cl)c(S(N)(=O)=O)cc2S1(=...  "
      ]
     },
     "execution_count": 24,
     "metadata": {},
     "output_type": "execute_result"
    }
   ],
   "source": [
    "# molecules not present in our dataset from DeepDILI\n",
    "df_deepdili[~df_deepdili['CompoundName'].isin(df_dili['name'])]"
   ]
  }
 ],
 "metadata": {
  "kernelspec": {
   "display_name": "Python 3 (ipykernel)",
   "language": "python",
   "name": "python3"
  },
  "language_info": {
   "codemirror_mode": {
    "name": "ipython",
    "version": 3
   },
   "file_extension": ".py",
   "mimetype": "text/x-python",
   "name": "python",
   "nbconvert_exporter": "python",
   "pygments_lexer": "ipython3",
   "version": "3.10.14"
  }
 },
 "nbformat": 4,
 "nbformat_minor": 5
}
